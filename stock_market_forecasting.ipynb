{
  "nbformat": 4,
  "nbformat_minor": 0,
  "metadata": {
    "colab": {
      "name": "stock market forecasting.ipynb",
      "provenance": [],
      "mount_file_id": "1Vcd23CLGshrG-rPisvUVcBKwv60FgKvK",
      "authorship_tag": "ABX9TyPuIxokuhP+d0e1aYmnBcCN",
      "include_colab_link": true
    },
    "kernelspec": {
      "name": "python3",
      "display_name": "Python 3"
    },
    "language_info": {
      "name": "python"
    }
  },
  "cells": [
    {
      "cell_type": "markdown",
      "metadata": {
        "id": "view-in-github",
        "colab_type": "text"
      },
      "source": [
        "<a href=\"https://colab.research.google.com/github/jayantkp/Stock-Market-Forecasting/blob/main/stock_market_forecasting.ipynb\" target=\"_parent\"><img src=\"https://colab.research.google.com/assets/colab-badge.svg\" alt=\"Open In Colab\"/></a>"
      ]
    },
    {
      "cell_type": "markdown",
      "source": [
        "GOOGLE(GOOG) STOCK MARKET DATA FROM 2016- Present(5 years) data <br>\n",
        "USING TIINGO API TO ACCESS STOCK MARKET DATA"
      ],
      "metadata": {
        "id": "2EMKa9aACN14"
      }
    },
    {
      "cell_type": "code",
      "execution_count": 25,
      "metadata": {
        "id": "dBZ1MIxk9Fx6"
      },
      "outputs": [],
      "source": [
        "import pandas_datareader as pdr"
      ]
    },
    {
      "cell_type": "code",
      "source": [
        "key = ''"
      ],
      "metadata": {
        "id": "JoozOIn7F0kJ"
      },
      "execution_count": 71,
      "outputs": []
    },
    {
      "cell_type": "code",
      "source": [
        "df = pdr.get_data_tiingo('GOOG', api_key = key)"
      ],
      "metadata": {
        "id": "MXxZcQxpB5lX"
      },
      "execution_count": 3,
      "outputs": []
    },
    {
      "cell_type": "code",
      "source": [
        "df.to_csv('GOOG.csv')"
      ],
      "metadata": {
        "id": "Qr27PVu8CEn6"
      },
      "execution_count": 4,
      "outputs": []
    },
    {
      "cell_type": "code",
      "source": [
        "import pandas as pd\n",
        "df = pd.read_csv('GOOG.csv')"
      ],
      "metadata": {
        "id": "flgO8WZbF9T4"
      },
      "execution_count": 5,
      "outputs": []
    },
    {
      "cell_type": "code",
      "source": [
        "df.head()"
      ],
      "metadata": {
        "colab": {
          "base_uri": "https://localhost:8080/",
          "height": 206
        },
        "id": "9Oaf0exAGEh9",
        "outputId": "ca69f7b7-5702-446b-d9d4-3e89e3674d60"
      },
      "execution_count": 6,
      "outputs": [
        {
          "output_type": "execute_result",
          "data": {
            "text/html": [
              "\n",
              "  <div id=\"df-97f7cf51-fc12-4cb0-83e3-1552c88de82b\">\n",
              "    <div class=\"colab-df-container\">\n",
              "      <div>\n",
              "<style scoped>\n",
              "    .dataframe tbody tr th:only-of-type {\n",
              "        vertical-align: middle;\n",
              "    }\n",
              "\n",
              "    .dataframe tbody tr th {\n",
              "        vertical-align: top;\n",
              "    }\n",
              "\n",
              "    .dataframe thead th {\n",
              "        text-align: right;\n",
              "    }\n",
              "</style>\n",
              "<table border=\"1\" class=\"dataframe\">\n",
              "  <thead>\n",
              "    <tr style=\"text-align: right;\">\n",
              "      <th></th>\n",
              "      <th>symbol</th>\n",
              "      <th>date</th>\n",
              "      <th>close</th>\n",
              "      <th>high</th>\n",
              "      <th>low</th>\n",
              "      <th>open</th>\n",
              "      <th>volume</th>\n",
              "      <th>adjClose</th>\n",
              "      <th>adjHigh</th>\n",
              "      <th>adjLow</th>\n",
              "      <th>adjOpen</th>\n",
              "      <th>adjVolume</th>\n",
              "      <th>divCash</th>\n",
              "      <th>splitFactor</th>\n",
              "    </tr>\n",
              "  </thead>\n",
              "  <tbody>\n",
              "    <tr>\n",
              "      <th>0</th>\n",
              "      <td>GOOG</td>\n",
              "      <td>2016-12-20 00:00:00+00:00</td>\n",
              "      <td>796.42</td>\n",
              "      <td>798.6500</td>\n",
              "      <td>793.270</td>\n",
              "      <td>796.76</td>\n",
              "      <td>951014</td>\n",
              "      <td>796.42</td>\n",
              "      <td>798.6500</td>\n",
              "      <td>793.270</td>\n",
              "      <td>796.76</td>\n",
              "      <td>951014</td>\n",
              "      <td>0.0</td>\n",
              "      <td>1.0</td>\n",
              "    </tr>\n",
              "    <tr>\n",
              "      <th>1</th>\n",
              "      <td>GOOG</td>\n",
              "      <td>2016-12-21 00:00:00+00:00</td>\n",
              "      <td>794.56</td>\n",
              "      <td>796.6757</td>\n",
              "      <td>787.100</td>\n",
              "      <td>795.84</td>\n",
              "      <td>1211346</td>\n",
              "      <td>794.56</td>\n",
              "      <td>796.6757</td>\n",
              "      <td>787.100</td>\n",
              "      <td>795.84</td>\n",
              "      <td>1211346</td>\n",
              "      <td>0.0</td>\n",
              "      <td>1.0</td>\n",
              "    </tr>\n",
              "    <tr>\n",
              "      <th>2</th>\n",
              "      <td>GOOG</td>\n",
              "      <td>2016-12-22 00:00:00+00:00</td>\n",
              "      <td>791.26</td>\n",
              "      <td>793.3200</td>\n",
              "      <td>788.580</td>\n",
              "      <td>792.36</td>\n",
              "      <td>972169</td>\n",
              "      <td>791.26</td>\n",
              "      <td>793.3200</td>\n",
              "      <td>788.580</td>\n",
              "      <td>792.36</td>\n",
              "      <td>972169</td>\n",
              "      <td>0.0</td>\n",
              "      <td>1.0</td>\n",
              "    </tr>\n",
              "    <tr>\n",
              "      <th>3</th>\n",
              "      <td>GOOG</td>\n",
              "      <td>2016-12-23 00:00:00+00:00</td>\n",
              "      <td>789.91</td>\n",
              "      <td>792.7400</td>\n",
              "      <td>787.280</td>\n",
              "      <td>790.90</td>\n",
              "      <td>623944</td>\n",
              "      <td>789.91</td>\n",
              "      <td>792.7400</td>\n",
              "      <td>787.280</td>\n",
              "      <td>790.90</td>\n",
              "      <td>623944</td>\n",
              "      <td>0.0</td>\n",
              "      <td>1.0</td>\n",
              "    </tr>\n",
              "    <tr>\n",
              "      <th>4</th>\n",
              "      <td>GOOG</td>\n",
              "      <td>2016-12-27 00:00:00+00:00</td>\n",
              "      <td>791.55</td>\n",
              "      <td>797.8600</td>\n",
              "      <td>787.657</td>\n",
              "      <td>790.68</td>\n",
              "      <td>789321</td>\n",
              "      <td>791.55</td>\n",
              "      <td>797.8600</td>\n",
              "      <td>787.657</td>\n",
              "      <td>790.68</td>\n",
              "      <td>789321</td>\n",
              "      <td>0.0</td>\n",
              "      <td>1.0</td>\n",
              "    </tr>\n",
              "  </tbody>\n",
              "</table>\n",
              "</div>\n",
              "      <button class=\"colab-df-convert\" onclick=\"convertToInteractive('df-97f7cf51-fc12-4cb0-83e3-1552c88de82b')\"\n",
              "              title=\"Convert this dataframe to an interactive table.\"\n",
              "              style=\"display:none;\">\n",
              "        \n",
              "  <svg xmlns=\"http://www.w3.org/2000/svg\" height=\"24px\"viewBox=\"0 0 24 24\"\n",
              "       width=\"24px\">\n",
              "    <path d=\"M0 0h24v24H0V0z\" fill=\"none\"/>\n",
              "    <path d=\"M18.56 5.44l.94 2.06.94-2.06 2.06-.94-2.06-.94-.94-2.06-.94 2.06-2.06.94zm-11 1L8.5 8.5l.94-2.06 2.06-.94-2.06-.94L8.5 2.5l-.94 2.06-2.06.94zm10 10l.94 2.06.94-2.06 2.06-.94-2.06-.94-.94-2.06-.94 2.06-2.06.94z\"/><path d=\"M17.41 7.96l-1.37-1.37c-.4-.4-.92-.59-1.43-.59-.52 0-1.04.2-1.43.59L10.3 9.45l-7.72 7.72c-.78.78-.78 2.05 0 2.83L4 21.41c.39.39.9.59 1.41.59.51 0 1.02-.2 1.41-.59l7.78-7.78 2.81-2.81c.8-.78.8-2.07 0-2.86zM5.41 20L4 18.59l7.72-7.72 1.47 1.35L5.41 20z\"/>\n",
              "  </svg>\n",
              "      </button>\n",
              "      \n",
              "  <style>\n",
              "    .colab-df-container {\n",
              "      display:flex;\n",
              "      flex-wrap:wrap;\n",
              "      gap: 12px;\n",
              "    }\n",
              "\n",
              "    .colab-df-convert {\n",
              "      background-color: #E8F0FE;\n",
              "      border: none;\n",
              "      border-radius: 50%;\n",
              "      cursor: pointer;\n",
              "      display: none;\n",
              "      fill: #1967D2;\n",
              "      height: 32px;\n",
              "      padding: 0 0 0 0;\n",
              "      width: 32px;\n",
              "    }\n",
              "\n",
              "    .colab-df-convert:hover {\n",
              "      background-color: #E2EBFA;\n",
              "      box-shadow: 0px 1px 2px rgba(60, 64, 67, 0.3), 0px 1px 3px 1px rgba(60, 64, 67, 0.15);\n",
              "      fill: #174EA6;\n",
              "    }\n",
              "\n",
              "    [theme=dark] .colab-df-convert {\n",
              "      background-color: #3B4455;\n",
              "      fill: #D2E3FC;\n",
              "    }\n",
              "\n",
              "    [theme=dark] .colab-df-convert:hover {\n",
              "      background-color: #434B5C;\n",
              "      box-shadow: 0px 1px 3px 1px rgba(0, 0, 0, 0.15);\n",
              "      filter: drop-shadow(0px 1px 2px rgba(0, 0, 0, 0.3));\n",
              "      fill: #FFFFFF;\n",
              "    }\n",
              "  </style>\n",
              "\n",
              "      <script>\n",
              "        const buttonEl =\n",
              "          document.querySelector('#df-97f7cf51-fc12-4cb0-83e3-1552c88de82b button.colab-df-convert');\n",
              "        buttonEl.style.display =\n",
              "          google.colab.kernel.accessAllowed ? 'block' : 'none';\n",
              "\n",
              "        async function convertToInteractive(key) {\n",
              "          const element = document.querySelector('#df-97f7cf51-fc12-4cb0-83e3-1552c88de82b');\n",
              "          const dataTable =\n",
              "            await google.colab.kernel.invokeFunction('convertToInteractive',\n",
              "                                                     [key], {});\n",
              "          if (!dataTable) return;\n",
              "\n",
              "          const docLinkHtml = 'Like what you see? Visit the ' +\n",
              "            '<a target=\"_blank\" href=https://colab.research.google.com/notebooks/data_table.ipynb>data table notebook</a>'\n",
              "            + ' to learn more about interactive tables.';\n",
              "          element.innerHTML = '';\n",
              "          dataTable['output_type'] = 'display_data';\n",
              "          await google.colab.output.renderOutput(dataTable, element);\n",
              "          const docLink = document.createElement('div');\n",
              "          docLink.innerHTML = docLinkHtml;\n",
              "          element.appendChild(docLink);\n",
              "        }\n",
              "      </script>\n",
              "    </div>\n",
              "  </div>\n",
              "  "
            ],
            "text/plain": [
              "  symbol                       date   close  ...  adjVolume  divCash  splitFactor\n",
              "0   GOOG  2016-12-20 00:00:00+00:00  796.42  ...     951014      0.0          1.0\n",
              "1   GOOG  2016-12-21 00:00:00+00:00  794.56  ...    1211346      0.0          1.0\n",
              "2   GOOG  2016-12-22 00:00:00+00:00  791.26  ...     972169      0.0          1.0\n",
              "3   GOOG  2016-12-23 00:00:00+00:00  789.91  ...     623944      0.0          1.0\n",
              "4   GOOG  2016-12-27 00:00:00+00:00  791.55  ...     789321      0.0          1.0\n",
              "\n",
              "[5 rows x 14 columns]"
            ]
          },
          "metadata": {},
          "execution_count": 6
        }
      ]
    },
    {
      "cell_type": "code",
      "source": [
        "df.tail()"
      ],
      "metadata": {
        "colab": {
          "base_uri": "https://localhost:8080/",
          "height": 206
        },
        "id": "1QNjGFe67YLQ",
        "outputId": "c5c8fe39-cb6a-4e1e-e4c3-07751645884f"
      },
      "execution_count": 8,
      "outputs": [
        {
          "output_type": "execute_result",
          "data": {
            "text/html": [
              "\n",
              "  <div id=\"df-24d0698f-29e8-4662-b371-e2e40a793054\">\n",
              "    <div class=\"colab-df-container\">\n",
              "      <div>\n",
              "<style scoped>\n",
              "    .dataframe tbody tr th:only-of-type {\n",
              "        vertical-align: middle;\n",
              "    }\n",
              "\n",
              "    .dataframe tbody tr th {\n",
              "        vertical-align: top;\n",
              "    }\n",
              "\n",
              "    .dataframe thead th {\n",
              "        text-align: right;\n",
              "    }\n",
              "</style>\n",
              "<table border=\"1\" class=\"dataframe\">\n",
              "  <thead>\n",
              "    <tr style=\"text-align: right;\">\n",
              "      <th></th>\n",
              "      <th>symbol</th>\n",
              "      <th>date</th>\n",
              "      <th>close</th>\n",
              "      <th>high</th>\n",
              "      <th>low</th>\n",
              "      <th>open</th>\n",
              "      <th>volume</th>\n",
              "      <th>adjClose</th>\n",
              "      <th>adjHigh</th>\n",
              "      <th>adjLow</th>\n",
              "      <th>adjOpen</th>\n",
              "      <th>adjVolume</th>\n",
              "      <th>divCash</th>\n",
              "      <th>splitFactor</th>\n",
              "    </tr>\n",
              "  </thead>\n",
              "  <tbody>\n",
              "    <tr>\n",
              "      <th>1253</th>\n",
              "      <td>GOOG</td>\n",
              "      <td>2021-12-13 00:00:00+00:00</td>\n",
              "      <td>2934.09</td>\n",
              "      <td>2971.2500</td>\n",
              "      <td>2927.20</td>\n",
              "      <td>2968.88</td>\n",
              "      <td>1205196</td>\n",
              "      <td>2934.09</td>\n",
              "      <td>2971.2500</td>\n",
              "      <td>2927.20</td>\n",
              "      <td>2968.88</td>\n",
              "      <td>1205196</td>\n",
              "      <td>0.0</td>\n",
              "      <td>1.0</td>\n",
              "    </tr>\n",
              "    <tr>\n",
              "      <th>1254</th>\n",
              "      <td>GOOG</td>\n",
              "      <td>2021-12-14 00:00:00+00:00</td>\n",
              "      <td>2899.41</td>\n",
              "      <td>2908.8400</td>\n",
              "      <td>2844.85</td>\n",
              "      <td>2895.40</td>\n",
              "      <td>1238940</td>\n",
              "      <td>2899.41</td>\n",
              "      <td>2908.8400</td>\n",
              "      <td>2844.85</td>\n",
              "      <td>2895.40</td>\n",
              "      <td>1238940</td>\n",
              "      <td>0.0</td>\n",
              "      <td>1.0</td>\n",
              "    </tr>\n",
              "    <tr>\n",
              "      <th>1255</th>\n",
              "      <td>GOOG</td>\n",
              "      <td>2021-12-15 00:00:00+00:00</td>\n",
              "      <td>2947.37</td>\n",
              "      <td>2950.3450</td>\n",
              "      <td>2854.11</td>\n",
              "      <td>2887.32</td>\n",
              "      <td>1364048</td>\n",
              "      <td>2947.37</td>\n",
              "      <td>2950.3450</td>\n",
              "      <td>2854.11</td>\n",
              "      <td>2887.32</td>\n",
              "      <td>1364048</td>\n",
              "      <td>0.0</td>\n",
              "      <td>1.0</td>\n",
              "    </tr>\n",
              "    <tr>\n",
              "      <th>1256</th>\n",
              "      <td>GOOG</td>\n",
              "      <td>2021-12-16 00:00:00+00:00</td>\n",
              "      <td>2896.77</td>\n",
              "      <td>2971.0300</td>\n",
              "      <td>2881.85</td>\n",
              "      <td>2961.54</td>\n",
              "      <td>1369987</td>\n",
              "      <td>2896.77</td>\n",
              "      <td>2971.0300</td>\n",
              "      <td>2881.85</td>\n",
              "      <td>2961.54</td>\n",
              "      <td>1369987</td>\n",
              "      <td>0.0</td>\n",
              "      <td>1.0</td>\n",
              "    </tr>\n",
              "    <tr>\n",
              "      <th>1257</th>\n",
              "      <td>GOOG</td>\n",
              "      <td>2021-12-17 00:00:00+00:00</td>\n",
              "      <td>2856.06</td>\n",
              "      <td>2889.2019</td>\n",
              "      <td>2835.76</td>\n",
              "      <td>2854.29</td>\n",
              "      <td>2170235</td>\n",
              "      <td>2856.06</td>\n",
              "      <td>2889.2019</td>\n",
              "      <td>2835.76</td>\n",
              "      <td>2854.29</td>\n",
              "      <td>2170235</td>\n",
              "      <td>0.0</td>\n",
              "      <td>1.0</td>\n",
              "    </tr>\n",
              "  </tbody>\n",
              "</table>\n",
              "</div>\n",
              "      <button class=\"colab-df-convert\" onclick=\"convertToInteractive('df-24d0698f-29e8-4662-b371-e2e40a793054')\"\n",
              "              title=\"Convert this dataframe to an interactive table.\"\n",
              "              style=\"display:none;\">\n",
              "        \n",
              "  <svg xmlns=\"http://www.w3.org/2000/svg\" height=\"24px\"viewBox=\"0 0 24 24\"\n",
              "       width=\"24px\">\n",
              "    <path d=\"M0 0h24v24H0V0z\" fill=\"none\"/>\n",
              "    <path d=\"M18.56 5.44l.94 2.06.94-2.06 2.06-.94-2.06-.94-.94-2.06-.94 2.06-2.06.94zm-11 1L8.5 8.5l.94-2.06 2.06-.94-2.06-.94L8.5 2.5l-.94 2.06-2.06.94zm10 10l.94 2.06.94-2.06 2.06-.94-2.06-.94-.94-2.06-.94 2.06-2.06.94z\"/><path d=\"M17.41 7.96l-1.37-1.37c-.4-.4-.92-.59-1.43-.59-.52 0-1.04.2-1.43.59L10.3 9.45l-7.72 7.72c-.78.78-.78 2.05 0 2.83L4 21.41c.39.39.9.59 1.41.59.51 0 1.02-.2 1.41-.59l7.78-7.78 2.81-2.81c.8-.78.8-2.07 0-2.86zM5.41 20L4 18.59l7.72-7.72 1.47 1.35L5.41 20z\"/>\n",
              "  </svg>\n",
              "      </button>\n",
              "      \n",
              "  <style>\n",
              "    .colab-df-container {\n",
              "      display:flex;\n",
              "      flex-wrap:wrap;\n",
              "      gap: 12px;\n",
              "    }\n",
              "\n",
              "    .colab-df-convert {\n",
              "      background-color: #E8F0FE;\n",
              "      border: none;\n",
              "      border-radius: 50%;\n",
              "      cursor: pointer;\n",
              "      display: none;\n",
              "      fill: #1967D2;\n",
              "      height: 32px;\n",
              "      padding: 0 0 0 0;\n",
              "      width: 32px;\n",
              "    }\n",
              "\n",
              "    .colab-df-convert:hover {\n",
              "      background-color: #E2EBFA;\n",
              "      box-shadow: 0px 1px 2px rgba(60, 64, 67, 0.3), 0px 1px 3px 1px rgba(60, 64, 67, 0.15);\n",
              "      fill: #174EA6;\n",
              "    }\n",
              "\n",
              "    [theme=dark] .colab-df-convert {\n",
              "      background-color: #3B4455;\n",
              "      fill: #D2E3FC;\n",
              "    }\n",
              "\n",
              "    [theme=dark] .colab-df-convert:hover {\n",
              "      background-color: #434B5C;\n",
              "      box-shadow: 0px 1px 3px 1px rgba(0, 0, 0, 0.15);\n",
              "      filter: drop-shadow(0px 1px 2px rgba(0, 0, 0, 0.3));\n",
              "      fill: #FFFFFF;\n",
              "    }\n",
              "  </style>\n",
              "\n",
              "      <script>\n",
              "        const buttonEl =\n",
              "          document.querySelector('#df-24d0698f-29e8-4662-b371-e2e40a793054 button.colab-df-convert');\n",
              "        buttonEl.style.display =\n",
              "          google.colab.kernel.accessAllowed ? 'block' : 'none';\n",
              "\n",
              "        async function convertToInteractive(key) {\n",
              "          const element = document.querySelector('#df-24d0698f-29e8-4662-b371-e2e40a793054');\n",
              "          const dataTable =\n",
              "            await google.colab.kernel.invokeFunction('convertToInteractive',\n",
              "                                                     [key], {});\n",
              "          if (!dataTable) return;\n",
              "\n",
              "          const docLinkHtml = 'Like what you see? Visit the ' +\n",
              "            '<a target=\"_blank\" href=https://colab.research.google.com/notebooks/data_table.ipynb>data table notebook</a>'\n",
              "            + ' to learn more about interactive tables.';\n",
              "          element.innerHTML = '';\n",
              "          dataTable['output_type'] = 'display_data';\n",
              "          await google.colab.output.renderOutput(dataTable, element);\n",
              "          const docLink = document.createElement('div');\n",
              "          docLink.innerHTML = docLinkHtml;\n",
              "          element.appendChild(docLink);\n",
              "        }\n",
              "      </script>\n",
              "    </div>\n",
              "  </div>\n",
              "  "
            ],
            "text/plain": [
              "     symbol                       date  ...  divCash  splitFactor\n",
              "1253   GOOG  2021-12-13 00:00:00+00:00  ...      0.0          1.0\n",
              "1254   GOOG  2021-12-14 00:00:00+00:00  ...      0.0          1.0\n",
              "1255   GOOG  2021-12-15 00:00:00+00:00  ...      0.0          1.0\n",
              "1256   GOOG  2021-12-16 00:00:00+00:00  ...      0.0          1.0\n",
              "1257   GOOG  2021-12-17 00:00:00+00:00  ...      0.0          1.0\n",
              "\n",
              "[5 rows x 14 columns]"
            ]
          },
          "metadata": {},
          "execution_count": 8
        }
      ]
    },
    {
      "cell_type": "code",
      "source": [
        "df.shape"
      ],
      "metadata": {
        "colab": {
          "base_uri": "https://localhost:8080/"
        },
        "id": "8N-tiKm-GF8G",
        "outputId": "77d79659-1fcf-4c20-deda-e4ecc7487c89"
      },
      "execution_count": 7,
      "outputs": [
        {
          "output_type": "execute_result",
          "data": {
            "text/plain": [
              "(1258, 14)"
            ]
          },
          "metadata": {},
          "execution_count": 7
        }
      ]
    },
    {
      "cell_type": "markdown",
      "source": [
        "Stock Prediction for 'close' column"
      ],
      "metadata": {
        "id": "P6EEkK9w7fR9"
      }
    },
    {
      "cell_type": "code",
      "source": [
        " df2 = df.reset_index()['close']"
      ],
      "metadata": {
        "id": "LVurR5JoGsma"
      },
      "execution_count": 10,
      "outputs": []
    },
    {
      "cell_type": "code",
      "source": [
        "df2.head()"
      ],
      "metadata": {
        "colab": {
          "base_uri": "https://localhost:8080/"
        },
        "id": "7zRHk3Ui7x5b",
        "outputId": "eb4511e0-296f-488f-d83c-eed2cdd58d55"
      },
      "execution_count": 19,
      "outputs": [
        {
          "output_type": "execute_result",
          "data": {
            "text/plain": [
              "0    796.42\n",
              "1    794.56\n",
              "2    791.26\n",
              "3    789.91\n",
              "4    791.55\n",
              "Name: close, dtype: float64"
            ]
          },
          "metadata": {},
          "execution_count": 19
        }
      ]
    },
    {
      "cell_type": "code",
      "source": [
        "import matplotlib.pyplot as plt\n",
        "plt.plot(df2)"
      ],
      "metadata": {
        "colab": {
          "base_uri": "https://localhost:8080/",
          "height": 282
        },
        "id": "KYRcGws073xF",
        "outputId": "28db98bb-5f73-4494-e4ab-f773f0fe9945"
      },
      "execution_count": 14,
      "outputs": [
        {
          "output_type": "execute_result",
          "data": {
            "text/plain": [
              "[<matplotlib.lines.Line2D at 0x7fd6e2cac390>]"
            ]
          },
          "metadata": {},
          "execution_count": 14
        },
        {
          "output_type": "display_data",
          "data": {
            "image/png": "[encoded data removed]",
            "text/plain": [
              "<Figure size 432x288 with 1 Axes>"
            ]
          },
          "metadata": {
            "needs_background": "light"
          }
        }
      ]
    },
    {
      "cell_type": "code",
      "source": [
        "import numpy as np"
      ],
      "metadata": {
        "id": "Icwql4VA8BZo"
      },
      "execution_count": 15,
      "outputs": []
    },
    {
      "cell_type": "code",
      "source": [
        "df2.shape"
      ],
      "metadata": {
        "colab": {
          "base_uri": "https://localhost:8080/"
        },
        "id": "0AIahK0C8bec",
        "outputId": "ab12e197-f9d5-4042-fa59-87b40dad0a54"
      },
      "execution_count": 16,
      "outputs": [
        {
          "output_type": "execute_result",
          "data": {
            "text/plain": [
              "(1258,)"
            ]
          },
          "metadata": {},
          "execution_count": 16
        }
      ]
    },
    {
      "cell_type": "markdown",
      "source": [
        "Scaling down the features"
      ],
      "metadata": {
        "id": "-fYznU1U8xbh"
      }
    },
    {
      "cell_type": "code",
      "source": [
        "from sklearn.preprocessing import MinMaxScaler\n",
        "scaler = MinMaxScaler(feature_range = (0,1))\n",
        "df2 = scaler.fit_transform(np.array(df2).reshape(-1,1))"
      ],
      "metadata": {
        "id": "6wkbuYrW8KOQ"
      },
      "execution_count": 20,
      "outputs": []
    },
    {
      "cell_type": "code",
      "source": [
        "df2.shape"
      ],
      "metadata": {
        "colab": {
          "base_uri": "https://localhost:8080/"
        },
        "id": "ECNh3eyy87lT",
        "outputId": "62573282-fefc-4b56-c14b-4a1f32f58520"
      },
      "execution_count": 21,
      "outputs": [
        {
          "output_type": "execute_result",
          "data": {
            "text/plain": [
              "(1258, 1)"
            ]
          },
          "metadata": {},
          "execution_count": 21
        }
      ]
    },
    {
      "cell_type": "code",
      "source": [
        "df2"
      ],
      "metadata": {
        "colab": {
          "base_uri": "https://localhost:8080/"
        },
        "id": "CV57SOWo88NF",
        "outputId": "9d11c6b7-fad4-441f-dfe7-933b11b873de"
      },
      "execution_count": 26,
      "outputs": [
        {
          "output_type": "execute_result",
          "data": {
            "text/plain": [
              "array([[0.01097058],\n",
              "       [0.0101411 ],\n",
              "       [0.00866944],\n",
              "       ...,\n",
              "       [0.9702055 ],\n",
              "       [0.94763999],\n",
              "       [0.92948501]])"
            ]
          },
          "metadata": {},
          "execution_count": 26
        }
      ]
    },
    {
      "cell_type": "markdown",
      "source": [
        "Splitting dataset into training and test data"
      ],
      "metadata": {
        "id": "PvjSYN2P-KEj"
      }
    },
    {
      "cell_type": "code",
      "source": [
        "training_size = int(len(df2) * 0.70) #70% training\n",
        "test_size = len(df2) - training_size  #30% test\n",
        "training_size, test_size"
      ],
      "metadata": {
        "colab": {
          "base_uri": "https://localhost:8080/"
        },
        "id": "A4ahiPFg89Bi",
        "outputId": "c52245f3-d7fb-4f88-f3b2-197882f69dc4"
      },
      "execution_count": 27,
      "outputs": [
        {
          "output_type": "execute_result",
          "data": {
            "text/plain": [
              "(880, 378)"
            ]
          },
          "metadata": {},
          "execution_count": 27
        }
      ]
    },
    {
      "cell_type": "code",
      "source": [
        "train_data, test_data = df2[0:training_size,:], df2[training_size : len(df2), :1]"
      ],
      "metadata": {
        "id": "HFF3gZed-s1H"
      },
      "execution_count": 28,
      "outputs": []
    },
    {
      "cell_type": "code",
      "source": [
        "train_data[:5]"
      ],
      "metadata": {
        "colab": {
          "base_uri": "https://localhost:8080/"
        },
        "id": "LNMF6ZYJ-7yz",
        "outputId": "330a348f-0545-4c52-f781-63fd3a12806a"
      },
      "execution_count": 30,
      "outputs": [
        {
          "output_type": "execute_result",
          "data": {
            "text/plain": [
              "array([[0.01097058],\n",
              "       [0.0101411 ],\n",
              "       [0.00866944],\n",
              "       [0.00806739],\n",
              "       [0.00879877]])"
            ]
          },
          "metadata": {},
          "execution_count": 30
        }
      ]
    },
    {
      "cell_type": "code",
      "source": [
        "test_data[:5]"
      ],
      "metadata": {
        "colab": {
          "base_uri": "https://localhost:8080/"
        },
        "id": "_Ecc0iLU-84g",
        "outputId": "0f391577-cd5c-4afd-bcce-1a70483bf104"
      },
      "execution_count": 31,
      "outputs": [
        {
          "output_type": "execute_result",
          "data": {
            "text/plain": [
              "array([[0.30326977],\n",
              "       [0.30886655],\n",
              "       [0.29439965],\n",
              "       [0.29857382],\n",
              "       [0.26225941]])"
            ]
          },
          "metadata": {},
          "execution_count": 31
        }
      ]
    },
    {
      "cell_type": "markdown",
      "source": [
        "Making timesteps for both the training and test data"
      ],
      "metadata": {
        "id": "qB3k2ywKAJI_"
      }
    },
    {
      "cell_type": "code",
      "source": [
        "def create_dataset(dataset, time_step):\n",
        "  dataX, dataY = [], []\n",
        "  for i in range(len(dataset) - time_step - 1):\n",
        "    a = dataset[i:(i + time_step), 0] ##i = 0, 0,1,2,3,....99 100\n",
        "    dataX.append(a)\n",
        "    dataY.append(dataset[i+ time_step, 0])\n",
        "  return np.array(dataX), np.array(dataY)"
      ],
      "metadata": {
        "id": "tXwc4rdgAGaV"
      },
      "execution_count": 39,
      "outputs": []
    },
    {
      "cell_type": "code",
      "source": [
        "time_step = 100\n",
        "X_train, y_train = create_dataset(train_data, time_step)\n",
        "X_test, y_test = create_dataset(test_data, time_step)"
      ],
      "metadata": {
        "id": "G7kGsGoX_AHt"
      },
      "execution_count": 41,
      "outputs": []
    },
    {
      "cell_type": "code",
      "source": [
        "print(X_train)"
      ],
      "metadata": {
        "colab": {
          "base_uri": "https://localhost:8080/"
        },
        "id": "uneG3pjaCgnm",
        "outputId": "04dd6df5-11d9-4f18-fbe5-70ba9a242e3a"
      },
      "execution_count": 45,
      "outputs": [
        {
          "output_type": "stream",
          "name": "stdout",
          "text": [
            "[[0.01097058 0.0101411  0.00866944 ... 0.07080933 0.07153178 0.07369914]\n",
            " [0.0101411  0.00866944 0.00806739 ... 0.07153178 0.07369914 0.07633921]\n",
            " [0.00866944 0.00806739 0.00879877 ... 0.07369914 0.07633921 0.0659127 ]\n",
            " ...\n",
            " [0.31878467 0.30989226 0.29526035 ... 0.28185483 0.28602009 0.28899463]\n",
            " [0.30989226 0.29526035 0.30358194 ... 0.28602009 0.28899463 0.29919371]\n",
            " [0.29526035 0.30358194 0.30628891 ... 0.28899463 0.29919371 0.30293976]]\n"
          ]
        }
      ]
    },
    {
      "cell_type": "code",
      "source": [
        "(X_train.shape),(X_test.shape)"
      ],
      "metadata": {
        "colab": {
          "base_uri": "https://localhost:8080/"
        },
        "id": "DLTL_klZDV8d",
        "outputId": "af4b0d75-89ef-41f5-e875-abbece866223"
      },
      "execution_count": 47,
      "outputs": [
        {
          "output_type": "execute_result",
          "data": {
            "text/plain": [
              "((779, 100), (277, 100))"
            ]
          },
          "metadata": {},
          "execution_count": 47
        }
      ]
    },
    {
      "cell_type": "code",
      "source": [
        "# reshaping the input to [samples, test_size, features] which\n",
        "# is required for LSTM\n",
        "\n",
        "X_train = X_train.reshape(-1, X_train.shape[1], 1)\n",
        "X_test = X_test.reshape(-1, X_test.shape[1], 1)"
      ],
      "metadata": {
        "id": "7oE3pgX0DHC7"
      },
      "execution_count": 49,
      "outputs": []
    },
    {
      "cell_type": "code",
      "source": [
        "(X_train.shape), (X_test.shape)"
      ],
      "metadata": {
        "colab": {
          "base_uri": "https://localhost:8080/"
        },
        "id": "Z1HuACKoDKDd",
        "outputId": "b69f6261-3230-40e3-bd52-b49cc30256f6"
      },
      "execution_count": 50,
      "outputs": [
        {
          "output_type": "execute_result",
          "data": {
            "text/plain": [
              "((779, 100, 1), (277, 100, 1))"
            ]
          },
          "metadata": {},
          "execution_count": 50
        }
      ]
    },
    {
      "cell_type": "markdown",
      "source": [
        "Building the model"
      ],
      "metadata": {
        "id": "9GHwc_GXDdxR"
      }
    },
    {
      "cell_type": "code",
      "source": [
        "from tensorflow.keras.models import Sequential\n",
        "from tensorflow.keras.layers import Dense\n",
        "from tensorflow.keras.layers import LSTM"
      ],
      "metadata": {
        "id": "nChQNdkGD-kg"
      },
      "execution_count": 51,
      "outputs": []
    },
    {
      "cell_type": "code",
      "source": [
        "model = Sequential()\n",
        "model.add(LSTM(50, return_sequences = True, input_shape = (100,1)))\n",
        "model.add(LSTM(50, return_sequences = True))\n",
        "model.add(LSTM(50))\n",
        "model.add(Dense(1))\n",
        "\n",
        "model.compile(loss = 'mse', optimizer = 'adam')"
      ],
      "metadata": {
        "id": "PejfMi_xEL0x"
      },
      "execution_count": 52,
      "outputs": []
    },
    {
      "cell_type": "code",
      "source": [
        "model.summary()"
      ],
      "metadata": {
        "colab": {
          "base_uri": "https://localhost:8080/"
        },
        "id": "m-nP7Pq9FD2f",
        "outputId": "2e7f5faf-9fe5-434c-9481-652761d59a1f"
      },
      "execution_count": 53,
      "outputs": [
        {
          "output_type": "stream",
          "name": "stdout",
          "text": [
            "Model: \"sequential\"\n",
            "_________________________________________________________________\n",
            " Layer (type)                Output Shape              Param #   \n",
            "=================================================================\n",
            " lstm (LSTM)                 (None, 100, 50)           10400     \n",
            "                                                                 \n",
            " lstm_1 (LSTM)               (None, 100, 50)           20200     \n",
            "                                                                 \n",
            " lstm_2 (LSTM)               (None, 50)                20200     \n",
            "                                                                 \n",
            " dense (Dense)               (None, 1)                 51        \n",
            "                                                                 \n",
            "=================================================================\n",
            "Total params: 50,851\n",
            "Trainable params: 50,851\n",
            "Non-trainable params: 0\n",
            "_________________________________________________________________\n"
          ]
        }
      ]
    },
    {
      "cell_type": "code",
      "source": [
        "model.fit(X_train, y_train,\n",
        "          validation_data = (X_test, y_test),\n",
        "          epochs = 100,\n",
        "          batch_size = 64,\n",
        "          verbose = 1) "
      ],
      "metadata": {
        "colab": {
          "base_uri": "https://localhost:8080/"
        },
        "id": "_-rpKtYXFF_p",
        "outputId": "f52e81a3-ad81-47a5-c6a7-31392fc98a40"
      },
      "execution_count": 63,
      "outputs": [
        {
          "output_type": "stream",
          "name": "stdout",
          "text": [
            "Epoch 1/100\n",
            "13/13 [==============================] - 4s 328ms/step - loss: 2.3829e-04 - val_loss: 0.2795\n",
            "Epoch 2/100\n",
            "13/13 [==============================] - 3s 262ms/step - loss: 2.4328e-04 - val_loss: 0.2614\n",
            "Epoch 3/100\n",
            "13/13 [==============================] - 3s 198ms/step - loss: 2.3384e-04 - val_loss: 0.2033\n",
            "Epoch 4/100\n",
            "13/13 [==============================] - 2s 190ms/step - loss: 2.2723e-04 - val_loss: 0.2708\n",
            "Epoch 5/100\n",
            "13/13 [==============================] - 3s 194ms/step - loss: 2.1804e-04 - val_loss: 0.2563\n",
            "Epoch 6/100\n",
            "13/13 [==============================] - 3s 198ms/step - loss: 2.3185e-04 - val_loss: 0.1253\n",
            "Epoch 7/100\n",
            "13/13 [==============================] - 3s 194ms/step - loss: 2.5209e-04 - val_loss: 0.1285\n",
            "Epoch 8/100\n",
            "13/13 [==============================] - 2s 193ms/step - loss: 2.1254e-04 - val_loss: 0.2247\n",
            "Epoch 9/100\n",
            "13/13 [==============================] - 3s 195ms/step - loss: 2.3041e-04 - val_loss: 0.0902\n",
            "Epoch 10/100\n",
            "13/13 [==============================] - 3s 203ms/step - loss: 2.9344e-04 - val_loss: 0.1084\n",
            "Epoch 11/100\n",
            "13/13 [==============================] - 3s 194ms/step - loss: 2.3768e-04 - val_loss: 0.1228\n",
            "Epoch 12/100\n",
            "13/13 [==============================] - 3s 198ms/step - loss: 2.1474e-04 - val_loss: 0.0962\n",
            "Epoch 13/100\n",
            "13/13 [==============================] - 3s 194ms/step - loss: 2.1914e-04 - val_loss: 0.1436\n",
            "Epoch 14/100\n",
            "13/13 [==============================] - 2s 192ms/step - loss: 2.2426e-04 - val_loss: 0.1298\n",
            "Epoch 15/100\n",
            "13/13 [==============================] - 3s 196ms/step - loss: 2.0287e-04 - val_loss: 0.1665\n",
            "Epoch 16/100\n",
            "13/13 [==============================] - 3s 197ms/step - loss: 2.0810e-04 - val_loss: 0.1814\n",
            "Epoch 17/100\n",
            "13/13 [==============================] - 3s 196ms/step - loss: 2.1338e-04 - val_loss: 0.2042\n",
            "Epoch 18/100\n",
            "13/13 [==============================] - 3s 196ms/step - loss: 2.1788e-04 - val_loss: 0.1110\n",
            "Epoch 19/100\n",
            "13/13 [==============================] - 2s 192ms/step - loss: 2.1677e-04 - val_loss: 0.1703\n",
            "Epoch 20/100\n",
            "13/13 [==============================] - 3s 193ms/step - loss: 2.0246e-04 - val_loss: 0.2374\n",
            "Epoch 21/100\n",
            "13/13 [==============================] - 3s 197ms/step - loss: 2.4473e-04 - val_loss: 0.0856\n",
            "Epoch 22/100\n",
            "13/13 [==============================] - 3s 197ms/step - loss: 2.1504e-04 - val_loss: 0.1546\n",
            "Epoch 23/100\n",
            "13/13 [==============================] - 3s 195ms/step - loss: 1.9629e-04 - val_loss: 0.1289\n",
            "Epoch 24/100\n",
            "13/13 [==============================] - 3s 198ms/step - loss: 1.9752e-04 - val_loss: 0.1889\n",
            "Epoch 25/100\n",
            "13/13 [==============================] - 3s 194ms/step - loss: 2.3402e-04 - val_loss: 0.1394\n",
            "Epoch 26/100\n",
            "13/13 [==============================] - 3s 201ms/step - loss: 1.9576e-04 - val_loss: 0.1917\n",
            "Epoch 27/100\n",
            "13/13 [==============================] - 3s 195ms/step - loss: 1.9086e-04 - val_loss: 0.1209\n",
            "Epoch 28/100\n",
            "13/13 [==============================] - 3s 203ms/step - loss: 1.9111e-04 - val_loss: 0.1354\n",
            "Epoch 29/100\n",
            "13/13 [==============================] - 3s 201ms/step - loss: 1.9349e-04 - val_loss: 0.2370\n",
            "Epoch 30/100\n",
            "13/13 [==============================] - 3s 195ms/step - loss: 2.2771e-04 - val_loss: 0.1236\n",
            "Epoch 31/100\n",
            "13/13 [==============================] - 3s 196ms/step - loss: 2.0530e-04 - val_loss: 0.1034\n",
            "Epoch 32/100\n",
            "13/13 [==============================] - 3s 198ms/step - loss: 1.8216e-04 - val_loss: 0.1330\n",
            "Epoch 33/100\n",
            "13/13 [==============================] - 3s 199ms/step - loss: 1.8511e-04 - val_loss: 0.1045\n",
            "Epoch 34/100\n",
            "13/13 [==============================] - 3s 199ms/step - loss: 1.8384e-04 - val_loss: 0.1216\n",
            "Epoch 35/100\n",
            "13/13 [==============================] - 3s 197ms/step - loss: 1.7209e-04 - val_loss: 0.1320\n",
            "Epoch 36/100\n",
            "13/13 [==============================] - 3s 194ms/step - loss: 1.8022e-04 - val_loss: 0.1448\n",
            "Epoch 37/100\n",
            "13/13 [==============================] - 3s 195ms/step - loss: 1.8026e-04 - val_loss: 0.1277\n",
            "Epoch 38/100\n",
            "13/13 [==============================] - 3s 197ms/step - loss: 1.7268e-04 - val_loss: 0.0979\n",
            "Epoch 39/100\n",
            "13/13 [==============================] - 3s 197ms/step - loss: 1.7283e-04 - val_loss: 0.0803\n",
            "Epoch 40/100\n",
            "13/13 [==============================] - 3s 197ms/step - loss: 1.6614e-04 - val_loss: 0.1430\n",
            "Epoch 41/100\n",
            "13/13 [==============================] - 2s 192ms/step - loss: 1.7894e-04 - val_loss: 0.0740\n",
            "Epoch 42/100\n",
            "13/13 [==============================] - 3s 198ms/step - loss: 1.6731e-04 - val_loss: 0.1075\n",
            "Epoch 43/100\n",
            "13/13 [==============================] - 3s 206ms/step - loss: 1.6493e-04 - val_loss: 0.1247\n",
            "Epoch 44/100\n",
            "13/13 [==============================] - 3s 196ms/step - loss: 1.7923e-04 - val_loss: 0.0942\n",
            "Epoch 45/100\n",
            "13/13 [==============================] - 3s 197ms/step - loss: 1.6490e-04 - val_loss: 0.0829\n",
            "Epoch 46/100\n",
            "13/13 [==============================] - 3s 201ms/step - loss: 1.6287e-04 - val_loss: 0.0980\n",
            "Epoch 47/100\n",
            "13/13 [==============================] - 3s 198ms/step - loss: 1.6593e-04 - val_loss: 0.1016\n",
            "Epoch 48/100\n",
            "13/13 [==============================] - 3s 194ms/step - loss: 1.5635e-04 - val_loss: 0.0658\n",
            "Epoch 49/100\n",
            "13/13 [==============================] - 3s 196ms/step - loss: 1.5781e-04 - val_loss: 0.0634\n",
            "Epoch 50/100\n",
            "13/13 [==============================] - 3s 201ms/step - loss: 1.5321e-04 - val_loss: 0.0800\n",
            "Epoch 51/100\n",
            "13/13 [==============================] - 3s 198ms/step - loss: 1.5194e-04 - val_loss: 0.0608\n",
            "Epoch 52/100\n",
            "13/13 [==============================] - 3s 196ms/step - loss: 1.5592e-04 - val_loss: 0.0662\n",
            "Epoch 53/100\n",
            "13/13 [==============================] - 3s 194ms/step - loss: 1.7186e-04 - val_loss: 0.0953\n",
            "Epoch 54/100\n",
            "13/13 [==============================] - 3s 195ms/step - loss: 1.7806e-04 - val_loss: 0.0774\n",
            "Epoch 55/100\n",
            "13/13 [==============================] - 3s 194ms/step - loss: 1.5531e-04 - val_loss: 0.0639\n",
            "Epoch 56/100\n",
            "13/13 [==============================] - 3s 195ms/step - loss: 1.5392e-04 - val_loss: 0.0901\n",
            "Epoch 57/100\n",
            "13/13 [==============================] - 3s 198ms/step - loss: 1.5502e-04 - val_loss: 0.0983\n",
            "Epoch 58/100\n",
            "13/13 [==============================] - 3s 198ms/step - loss: 1.4164e-04 - val_loss: 0.0762\n",
            "Epoch 59/100\n",
            "13/13 [==============================] - 3s 195ms/step - loss: 1.3716e-04 - val_loss: 0.0726\n",
            "Epoch 60/100\n",
            "13/13 [==============================] - 3s 198ms/step - loss: 1.4297e-04 - val_loss: 0.0547\n",
            "Epoch 61/100\n",
            "13/13 [==============================] - 3s 194ms/step - loss: 1.3433e-04 - val_loss: 0.0830\n",
            "Epoch 62/100\n",
            "13/13 [==============================] - 2s 193ms/step - loss: 1.5148e-04 - val_loss: 0.0526\n",
            "Epoch 63/100\n",
            "13/13 [==============================] - 3s 194ms/step - loss: 1.4476e-04 - val_loss: 0.0747\n",
            "Epoch 64/100\n",
            "13/13 [==============================] - 3s 194ms/step - loss: 1.3143e-04 - val_loss: 0.0929\n",
            "Epoch 65/100\n",
            "13/13 [==============================] - 3s 200ms/step - loss: 1.3457e-04 - val_loss: 0.0672\n",
            "Epoch 66/100\n",
            "13/13 [==============================] - 3s 194ms/step - loss: 1.3358e-04 - val_loss: 0.0470\n",
            "Epoch 67/100\n",
            "13/13 [==============================] - 3s 193ms/step - loss: 1.3592e-04 - val_loss: 0.0736\n",
            "Epoch 68/100\n",
            "13/13 [==============================] - 3s 202ms/step - loss: 1.4470e-04 - val_loss: 0.0696\n",
            "Epoch 69/100\n",
            "13/13 [==============================] - 3s 197ms/step - loss: 1.6885e-04 - val_loss: 0.0427\n",
            "Epoch 70/100\n",
            "13/13 [==============================] - 3s 203ms/step - loss: 1.2695e-04 - val_loss: 0.0691\n",
            "Epoch 71/100\n",
            "13/13 [==============================] - 3s 197ms/step - loss: 1.1894e-04 - val_loss: 0.0611\n",
            "Epoch 72/100\n",
            "13/13 [==============================] - 2s 193ms/step - loss: 1.2002e-04 - val_loss: 0.0636\n",
            "Epoch 73/100\n",
            "13/13 [==============================] - 3s 196ms/step - loss: 1.1748e-04 - val_loss: 0.0534\n",
            "Epoch 74/100\n",
            "13/13 [==============================] - 3s 195ms/step - loss: 1.2024e-04 - val_loss: 0.0613\n",
            "Epoch 75/100\n",
            "13/13 [==============================] - 3s 196ms/step - loss: 1.1591e-04 - val_loss: 0.0513\n",
            "Epoch 76/100\n",
            "13/13 [==============================] - 3s 198ms/step - loss: 1.1923e-04 - val_loss: 0.0534\n",
            "Epoch 77/100\n",
            "13/13 [==============================] - 2s 193ms/step - loss: 1.1394e-04 - val_loss: 0.0585\n",
            "Epoch 78/100\n",
            "13/13 [==============================] - 2s 193ms/step - loss: 1.1642e-04 - val_loss: 0.0360\n",
            "Epoch 79/100\n",
            "13/13 [==============================] - 3s 196ms/step - loss: 1.3670e-04 - val_loss: 0.0545\n",
            "Epoch 80/100\n",
            "13/13 [==============================] - 3s 197ms/step - loss: 1.3136e-04 - val_loss: 0.0505\n",
            "Epoch 81/100\n",
            "13/13 [==============================] - 3s 194ms/step - loss: 1.1947e-04 - val_loss: 0.0473\n",
            "Epoch 82/100\n",
            "13/13 [==============================] - 3s 196ms/step - loss: 1.2811e-04 - val_loss: 0.0446\n",
            "Epoch 83/100\n",
            "13/13 [==============================] - 3s 201ms/step - loss: 1.3064e-04 - val_loss: 0.0682\n",
            "Epoch 84/100\n",
            "13/13 [==============================] - 3s 193ms/step - loss: 1.4033e-04 - val_loss: 0.0366\n",
            "Epoch 85/100\n",
            "13/13 [==============================] - 3s 194ms/step - loss: 1.1992e-04 - val_loss: 0.0344\n",
            "Epoch 86/100\n",
            "13/13 [==============================] - 3s 193ms/step - loss: 1.2133e-04 - val_loss: 0.0506\n",
            "Epoch 87/100\n",
            "13/13 [==============================] - 3s 201ms/step - loss: 1.1653e-04 - val_loss: 0.0353\n",
            "Epoch 88/100\n",
            "13/13 [==============================] - 3s 194ms/step - loss: 1.1056e-04 - val_loss: 0.0337\n",
            "Epoch 89/100\n",
            "13/13 [==============================] - 3s 195ms/step - loss: 1.1616e-04 - val_loss: 0.0430\n",
            "Epoch 90/100\n",
            "13/13 [==============================] - 3s 192ms/step - loss: 1.1100e-04 - val_loss: 0.0300\n",
            "Epoch 91/100\n",
            "13/13 [==============================] - 3s 193ms/step - loss: 1.0659e-04 - val_loss: 0.0430\n",
            "Epoch 92/100\n",
            "13/13 [==============================] - 3s 194ms/step - loss: 1.1395e-04 - val_loss: 0.0239\n",
            "Epoch 93/100\n",
            "13/13 [==============================] - 3s 197ms/step - loss: 1.1412e-04 - val_loss: 0.0457\n",
            "Epoch 94/100\n",
            "13/13 [==============================] - 3s 196ms/step - loss: 1.1203e-04 - val_loss: 0.0342\n",
            "Epoch 95/100\n",
            "13/13 [==============================] - 3s 197ms/step - loss: 1.1389e-04 - val_loss: 0.0319\n",
            "Epoch 96/100\n",
            "13/13 [==============================] - 3s 196ms/step - loss: 1.2907e-04 - val_loss: 0.0253\n",
            "Epoch 97/100\n",
            "13/13 [==============================] - 3s 197ms/step - loss: 1.0540e-04 - val_loss: 0.0394\n",
            "Epoch 98/100\n",
            "13/13 [==============================] - 3s 196ms/step - loss: 1.0384e-04 - val_loss: 0.0321\n",
            "Epoch 99/100\n",
            "13/13 [==============================] - 3s 200ms/step - loss: 1.0882e-04 - val_loss: 0.0373\n",
            "Epoch 100/100\n",
            "13/13 [==============================] - 3s 197ms/step - loss: 1.2474e-04 - val_loss: 0.0341\n"
          ]
        },
        {
          "output_type": "execute_result",
          "data": {
            "text/plain": [
              "<keras.callbacks.History at 0x7fd663b650d0>"
            ]
          },
          "metadata": {},
          "execution_count": 63
        }
      ]
    },
    {
      "cell_type": "code",
      "source": [
        "train_predict = model.predict(X_train)\n",
        "test_predict = model.predict(X_test)"
      ],
      "metadata": {
        "id": "1jcSozgSHnqV"
      },
      "execution_count": 64,
      "outputs": []
    },
    {
      "cell_type": "code",
      "source": [
        "#Transforming to original form\n",
        "train_predict = scaler.inverse_transform(train_predict)\n",
        "test_predict = scaler.inverse_transform(test_predict)"
      ],
      "metadata": {
        "id": "rH2bG6ksH0aG"
      },
      "execution_count": 65,
      "outputs": []
    },
    {
      "cell_type": "code",
      "source": [
        "type(train_predict)"
      ],
      "metadata": {
        "colab": {
          "base_uri": "https://localhost:8080/"
        },
        "id": "3W_zg6KdJQnh",
        "outputId": "1a8951d4-eb74-4a31-f445-488025bec8f2"
      },
      "execution_count": 66,
      "outputs": [
        {
          "output_type": "execute_result",
          "data": {
            "text/plain": [
              "numpy.ndarray"
            ]
          },
          "metadata": {},
          "execution_count": 66
        }
      ]
    },
    {
      "cell_type": "code",
      "source": [
        "import math\n",
        "from sklearn.metrics import mean_squared_error\n",
        "math.sqrt(mean_squared_error(y_train, train_predict))"
      ],
      "metadata": {
        "colab": {
          "base_uri": "https://localhost:8080/"
        },
        "id": "Erid10zFIEqB",
        "outputId": "51d7fba0-8586-4083-a6f9-3d249ec59573"
      },
      "execution_count": 67,
      "outputs": [
        {
          "output_type": "execute_result",
          "data": {
            "text/plain": [
              "1168.3839894750386"
            ]
          },
          "metadata": {},
          "execution_count": 67
        }
      ]
    },
    {
      "cell_type": "code",
      "source": [
        "#test data\n",
        "math.sqrt(mean_squared_error(y_test, test_predict))"
      ],
      "metadata": {
        "colab": {
          "base_uri": "https://localhost:8080/"
        },
        "id": "C8vMRJ8pIPYZ",
        "outputId": "73e13472-279a-4277-e831-4eda2dce0d2c"
      },
      "execution_count": 68,
      "outputs": [
        {
          "output_type": "execute_result",
          "data": {
            "text/plain": [
              "2037.928829897822"
            ]
          },
          "metadata": {},
          "execution_count": 68
        }
      ]
    },
    {
      "cell_type": "code",
      "source": [
        "#Plotting\n",
        "look_back = 100\n",
        "\n",
        "trainPredictPlot = np.empty_like(df2)\n",
        "trainPredictPlot[:,:] = np.nan\n",
        "trainPredictPlot[look_back : len(train_predict) + look_back,:] = train_predict\n",
        "\n",
        "testPredictPlot = np.empty_like(df2)\n",
        "testPredictPlot[:,:] = np.nan\n",
        "testPredictPlot[len(train_predict) + (look_back * 2) + 1 : len(df2) - 1, :] = test_predict\n",
        "\n",
        "plt.plot(scaler.inverse_transform(df2))\n",
        "plt.plot(trainPredictPlot)\n",
        "plt.plot(testPredictPlot)\n",
        "plt.show()"
      ],
      "metadata": {
        "colab": {
          "base_uri": "https://localhost:8080/",
          "height": 265
        },
        "id": "pTKbTpOpIXaz",
        "outputId": "c17028cb-b389-4280-a515-c609cb50bd15"
      },
      "execution_count": 69,
      "outputs": [
        {
          "output_type": "display_data",
          "data": {
            "image/png": "[encoded data removed]",
            "text/plain": [
              "<Figure size 432x288 with 1 Axes>"
            ]
          },
          "metadata": {
            "needs_background": "light"
          }
        }
      ]
    },
    {
      "cell_type": "code",
      "source": [
        ""
      ],
      "metadata": {
        "id": "eE5BPJyYKC1a"
      },
      "execution_count": null,
      "outputs": []
    }
  ]
}